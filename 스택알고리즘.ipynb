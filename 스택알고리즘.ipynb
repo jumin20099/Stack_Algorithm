{
 "cells": [
  {
   "cell_type": "code",
   "execution_count": null,
   "metadata": {},
   "outputs": [],
   "source": [
    "# 천단위 구분기호\n",
    "\n",
    "n = int(input())\n",
    "l = list(input())\n",
    "result = []\n",
    "\n",
    "for i in range(1, n+1):\n",
    "    result.insert(0, l.pop())\n",
    "    if i % 3 == 0:\n",
    "        result.insert(0, ',')\n",
    "\n",
    "if result[0] == ',':\n",
    "    del result[0]\n",
    "print(''.join(result))"
   ]
  },
  {
   "cell_type": "code",
   "execution_count": null,
   "metadata": {},
   "outputs": [],
   "source": [
    "# 큰 수 덧셈\n",
    "\n",
    "print(int(input())+int(input()))"
   ]
  },
  {
   "cell_type": "code",
   "execution_count": null,
   "metadata": {},
   "outputs": [
    {
     "name": "stdout",
     "output_type": "stream",
     "text": [
      "7\n"
     ]
    }
   ],
   "source": [
    "# 큰 수 뺄셈\n",
    "\n",
    "print(int(input())-int(input()))"
   ]
  },
  {
   "cell_type": "code",
   "execution_count": null,
   "metadata": {},
   "outputs": [
    {
     "name": "stdout",
     "output_type": "stream",
     "text": [
      "5\n",
      "3\n",
      "2\n"
     ]
    }
   ],
   "source": [
    "# STL stack\n",
    "\n",
    "n = int(input())\n",
    "l = []\n",
    "\n",
    "for i in range (n):\n",
    "\n",
    "    order = input().split()\n",
    "\n",
    "    if order[0]=='push(':\n",
    "        l.append(int(order[1]))\n",
    "\n",
    "    elif order[0]=='pop()':\n",
    "        if len(l)!=0:\n",
    "            m = l.pop()\n",
    "        else:\n",
    "            continue\n",
    "\n",
    "    elif order[0]=='size()':\n",
    "        print(len(l))\n",
    "\n",
    "    elif order[0]=='top()':\n",
    "        if len(l)!=0:\n",
    "            print(l[-1])\n",
    "        else:\n",
    "            print(-1)\n",
    "\n",
    "    elif order[0]=='empty()':\n",
    "        if len(l)==0:\n",
    "            print(\"true\")\n",
    "        else:\n",
    "            print(\"false\")"
   ]
  },
  {
   "cell_type": "code",
   "execution_count": null,
   "metadata": {},
   "outputs": [],
   "source": [
    "# 0은 빼!\n",
    "\n",
    "n = int(input())\n",
    "result = []\n",
    "\n",
    "for i in range(n):\n",
    "    m = int(input())\n",
    "    if m == 0:\n",
    "        result.pop()\n",
    "    else:\n",
    "        result.append(m)\n",
    "\n",
    "print(sum(result))"
   ]
  },
  {
   "cell_type": "code",
   "execution_count": null,
   "metadata": {},
   "outputs": [],
   "source": [
    "# 수식 계산 1\n",
    "\n"
   ]
  },
  {
   "cell_type": "code",
   "execution_count": null,
   "metadata": {},
   "outputs": [],
   "source": [
    "# 올바른 괄호 2\n",
    "\n",
    "n = list(input())\n",
    "l = len(n)\n",
    "\n",
    "result = 0\n",
    "\n",
    "for i in range(l):\n",
    "    if n[i] == '(':\n",
    "        result += 1\n",
    "    else:\n",
    "        result -= 1\n",
    "    \n",
    "    if result < 0:\n",
    "        print(\"bad\")\n",
    "        break\n",
    "else:\n",
    "    if result == 0:\n",
    "        print(\"good\")\n",
    "    else:\n",
    "        print(\"bad\")\n"
   ]
  },
  {
   "cell_type": "code",
   "execution_count": null,
   "metadata": {},
   "outputs": [
    {
     "name": "stdout",
     "output_type": "stream",
     "text": [
      "1\n"
     ]
    }
   ],
   "source": [
    "# 소들의 헤어스타일\n",
    "\n",
    "n = int(input())\n",
    "l = []\n",
    "result = 0\n",
    "\n",
    "for i in range(n):\n",
    "    h = int(input())\n",
    "    while l and l[-1] <= h:\n",
    "        l.pop()\n",
    "    result += len(l)             \n",
    "    l.insert(i, h)\n",
    "\n",
    "print(result)\n",
    "\n",
    "# 반복문으로 자신보다 큰 숫자가 나오는 순간 반복문 종료(중첩 for문? while문?)\n",
    "# 반복문 돌릴때 자신보다 작은 숫자가 나오면 나올때마다 result += 1"
   ]
  },
  {
   "cell_type": "code",
   "execution_count": null,
   "metadata": {},
   "outputs": [],
   "source": [
    "# 괄호의 값\n",
    "\n"
   ]
  },
  {
   "cell_type": "code",
   "execution_count": null,
   "metadata": {},
   "outputs": [
    {
     "name": "stdout",
     "output_type": "stream",
     "text": [
      "['7', '7', '7', '7', '7']\n",
      "['6', '9', '5', '7', '4']\n",
      "[]\n"
     ]
    }
   ],
   "source": [
    "# 탑\n",
    "\n",
    "n = int(input())\n",
    "stack = list(input().split())\n",
    "l = []\n",
    "result = []\n",
    "\n",
    "for i in range(n):\n",
    "    if stack[i] < stack[-1]:\n",
    "        p = stack.pop()\n",
    "    else:\n",
    "        result.append(p)\n",
    "\n",
    "print(result)\n",
    "print(stack)\n",
    "print(l)"
   ]
  },
  {
   "cell_type": "code",
   "execution_count": null,
   "metadata": {},
   "outputs": [],
   "source": []
  },
  {
   "cell_type": "code",
   "execution_count": null,
   "metadata": {},
   "outputs": [],
   "source": [
    "# 쇠 막대기\n",
    "\n"
   ]
  }
 ],
 "metadata": {
  "kernelspec": {
   "display_name": "Python 3",
   "language": "python",
   "name": "python3"
  },
  "language_info": {
   "codemirror_mode": {
    "name": "ipython",
    "version": 3
   },
   "file_extension": ".py",
   "mimetype": "text/x-python",
   "name": "python",
   "nbconvert_exporter": "python",
   "pygments_lexer": "ipython3",
   "version": "3.11.3"
  }
 },
 "nbformat": 4,
 "nbformat_minor": 2
}
