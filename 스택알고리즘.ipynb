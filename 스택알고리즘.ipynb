{
 "cells": [
  {
   "cell_type": "code",
   "execution_count": null,
   "metadata": {},
   "outputs": [],
   "source": [
    "# 천단위 구분기호\n",
    "\n",
    "n = int(input())\n",
    "l = list(input())\n",
    "result = []\n",
    "\n",
    "for i in range(1, n+1):\n",
    "    result.insert(0, l.pop())\n",
    "    if i % 3 == 0:\n",
    "        result.insert(0, ',')\n",
    "\n",
    "if result[0] == ',':\n",
    "    del result[0]\n",
    "print(''.join(result))"
   ]
  },
  {
   "cell_type": "code",
   "execution_count": null,
   "metadata": {},
   "outputs": [],
   "source": [
    "# 큰 수 덧셈\n",
    "\n",
    "print(int(input())+int(input()))"
   ]
  },
  {
   "cell_type": "code",
   "execution_count": null,
   "metadata": {},
   "outputs": [],
   "source": [
    "# 큰 수 뺄셈\n",
    "\n",
    "print(int(input())-int(input()))"
   ]
  },
  {
   "cell_type": "code",
   "execution_count": null,
   "metadata": {},
   "outputs": [],
   "source": [
    "# STL stack\n",
    "\n",
    "n = int(input())\n",
    "l = []\n",
    "\n",
    "for i in range (n):\n",
    "\n",
    "    order = input().split()\n",
    "\n",
    "    if order[0]=='push(':\n",
    "        l.append(int(order[1]))\n",
    "\n",
    "    elif order[0]=='pop()':\n",
    "        if len(l)!=0:\n",
    "            m = l.pop()\n",
    "        else:\n",
    "            continue\n",
    "\n",
    "    elif order[0]=='size()':\n",
    "        print(len(l))\n",
    "\n",
    "    elif order[0]=='top()':\n",
    "        if len(l)!=0:\n",
    "            print(l[-1])\n",
    "        else:\n",
    "            print(-1)\n",
    "\n",
    "    elif order[0]=='empty()':\n",
    "        if len(l)==0:\n",
    "            print(\"true\")\n",
    "        else:\n",
    "            print(\"false\")"
   ]
  },
  {
   "cell_type": "code",
   "execution_count": null,
   "metadata": {},
   "outputs": [],
   "source": [
    "# 0은 빼!\n",
    "\n",
    "n = int(input())\n",
    "result = []\n",
    "\n",
    "for i in range(n):\n",
    "    m = int(input())\n",
    "    if m == 0:\n",
    "        result.pop()\n",
    "    else:\n",
    "        result.append(m)\n",
    "\n",
    "print(sum(result))"
   ]
  },
  {
   "cell_type": "code",
   "execution_count": null,
   "metadata": {},
   "outputs": [
    {
     "name": "stdout",
     "output_type": "stream",
     "text": [
      "2\n",
      "3\n",
      "-1\n",
      "6\n"
     ]
    }
   ],
   "source": [
    "# 수식 계산 1\n",
    "\n",
    "n = input().split()\n",
    "stack = []\n",
    "\n",
    "for i in n:\n",
    "    stack.append(i)\n",
    "    if stack[-1] == '*':\n",
    "        multi = int(stack[-3]) * int(stack[-2])\n",
    "        stack.pop()\n",
    "        stack.pop()\n",
    "        stack.pop()\n",
    "        stack.append(multi)\n",
    "\n",
    "    elif stack[-1] == '+':\n",
    "        plus = int(stack[-3]) + int(stack[-2])\n",
    "        stack.pop()\n",
    "        stack.pop()\n",
    "        stack.pop()\n",
    "        stack.append(plus)\n",
    "\n",
    "    elif stack[-1] == '-':\n",
    "        minus = int(stack[-3]) - int(stack[-2])\n",
    "        stack.pop()\n",
    "        stack.pop()\n",
    "        stack.pop()\n",
    "        stack.append(minus)\n",
    "\n",
    "print(stack[0])"
   ]
  },
  {
   "cell_type": "code",
   "execution_count": null,
   "metadata": {},
   "outputs": [],
   "source": [
    "# 올바른 괄호 2\n",
    "\n",
    "n = list(input())\n",
    "l = len(n)\n",
    "\n",
    "result = 0\n",
    "\n",
    "for i in range(l):\n",
    "    if n[i] == '(':\n",
    "        result += 1\n",
    "    else:\n",
    "        result -= 1\n",
    "    \n",
    "    if result < 0:\n",
    "        print(\"bad\")\n",
    "        break\n",
    "else:\n",
    "    if result == 0:\n",
    "        print(\"good\")\n",
    "    else:\n",
    "        print(\"bad\")\n"
   ]
  },
  {
   "cell_type": "code",
   "execution_count": null,
   "metadata": {},
   "outputs": [],
   "source": [
    "# 소들의 헤어스타일\n",
    "\n",
    "n = int(input())\n",
    "l = []\n",
    "result = 0\n",
    "\n",
    "for i in range(n):\n",
    "    h = int(input())\n",
    "    while l and l[-1] <= h:\n",
    "        l.pop()\n",
    "    result += len(l)             \n",
    "    l.insert(i, h)\n",
    "\n",
    "print(result)\n",
    "\n",
    "# 반복문으로 자신보다 큰 숫자가 나오는 순간 반복문 종료(중첩 for문? while문?)\n",
    "# 반복문 돌릴때 자신보다 작은 숫자가 나오면 나올때마다 result += 1"
   ]
  },
  {
   "cell_type": "code",
   "execution_count": null,
   "metadata": {},
   "outputs": [],
   "source": [
    "# 괄호의 값\n",
    "\n"
   ]
  },
  {
   "cell_type": "code",
   "execution_count": 25,
   "metadata": {},
   "outputs": [
    {
     "name": "stdout",
     "output_type": "stream",
     "text": [
      "[0, 0]\n",
      "6\n",
      "[0, 0, 2]\n",
      "9\n",
      "[0, 0, 2]\n",
      "5\n",
      "[0, 0, 2, 4]\n",
      "7\n"
     ]
    }
   ],
   "source": [
    "# 탑\n",
    "\n",
    "n = int(input())\n",
    "stack1 = list(input().split())\n",
    "stack2 = stack1.copy()\n",
    "l = []\n",
    "result = []\n",
    "c = 0\n",
    "\n",
    "for i in range(n-1):\n",
    "    if stack1 is None:\n",
    "        break\n",
    "    l = stack1.pop(0)\n",
    "    \n",
    "    if stack1 and stack1[0] > l:\n",
    "        c += 1\n",
    "        l_stack2 = len(stack2)\n",
    "        for j in range(l_stack2-1):\n",
    "            if stack2 is None:\n",
    "                break\n",
    "            p = stack2.pop(0)\n",
    "            if stack2 and stack2[0] > p:\n",
    "                result.append(0)\n",
    "    elif stack1 and stack1[0] < l:\n",
    "        c += 1\n",
    "        result.append(c)\n",
    "    print(result)\n",
    "    print(l)\n",
    "\n",
    "# print(result)"
   ]
  },
  {
   "cell_type": "code",
   "execution_count": null,
   "metadata": {},
   "outputs": [],
   "source": [
    "# 쇠 막대기\n",
    "\n"
   ]
  }
 ],
 "metadata": {
  "kernelspec": {
   "display_name": "Python 3",
   "language": "python",
   "name": "python3"
  },
  "language_info": {
   "codemirror_mode": {
    "name": "ipython",
    "version": 3
   },
   "file_extension": ".py",
   "mimetype": "text/x-python",
   "name": "python",
   "nbconvert_exporter": "python",
   "pygments_lexer": "ipython3",
   "version": "3.11.3"
  }
 },
 "nbformat": 4,
 "nbformat_minor": 2
}
